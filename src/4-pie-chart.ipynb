{
 "cells": [
  {
   "cell_type": "markdown",
   "metadata": {},
   "source": [
    "### Exercise 4: Pie Chart with Percentages"
   ]
  },
  {
   "cell_type": "code",
   "execution_count": null,
   "metadata": {},
   "outputs": [],
   "source": [
    "# TASK: Create a pie chart with the following data: labels = ['Python', 'Java', 'C++', 'JavaScript'] and sizes = [40, 25, 20, 15].\n",
    "# Display the percentages on the chart using autopct.\n",
    "\n",
    "import matplotlib.pyplot as plt\n",
    "\n",
    "def plot_graph(x, y):\n",
    "    try:\n",
    "        if not isinstance(x, list) or not isinstance(y, list):\n",
    "            raise TypeError(\"Both x and y should be lists.\")\n",
    "        if len(x) != len(y):\n",
    "            raise ValueError(\"x and y must have the same length.\")\n",
    "        \n",
    "        # Create a line plot\n",
    "        plt.figure(figsize=(8, 5))\n",
    "        plt.plot(x, y, linestyle='-', color='b')\n",
    "        \n",
    "        # Customizing the plot\n",
    "        plt.xlabel('X Values', fontsize=12)\n",
    "        plt.ylabel('Y Values', fontsize=12)\n",
    "        plt.title('Quadratic Function Plot', fontsize=14)\n",
    "        plt.grid(True, linestyle='--', linewidth=0.5)\n",
    "        plt.legend()\n",
    "        \n",
    "        # Show the plot\n",
    "        plt.show()\n",
    "    except Exception as e:\n",
    "        print(f\"An error occurred: {e}\")\n",
    "\n",
    "# Data\n",
    "x_values = list(range(11))\n",
    "y_values = [i**2 for i in x_values]\n",
    "\n",
    "# Call function to plot graph\n",
    "plot_graph(x_values, y_values)"
   ]
  }
 ],
 "metadata": {
  "kernelspec": {
   "display_name": "Python 3",
   "language": "python",
   "name": "python3"
  },
  "language_info": {
   "codemirror_mode": {
    "name": "ipython",
    "version": 3
   },
   "file_extension": ".py",
   "mimetype": "text/x-python",
   "name": "python",
   "nbconvert_exporter": "python",
   "pygments_lexer": "ipython3",
   "version": "3.10.12"
  }
 },
 "nbformat": 4,
 "nbformat_minor": 2
}
